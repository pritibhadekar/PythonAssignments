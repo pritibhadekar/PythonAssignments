{
  "nbformat": 4,
  "nbformat_minor": 0,
  "metadata": {
    "colab": {
      "provenance": []
    },
    "kernelspec": {
      "name": "python3",
      "display_name": "Python 3"
    },
    "language_info": {
      "name": "python"
    }
  },
  "cells": [
    {
      "cell_type": "code",
      "execution_count": null,
      "metadata": {
        "colab": {
          "base_uri": "https://localhost:8080/"
        },
        "id": "JhKxBDjLid9i",
        "outputId": "0aad7f44-ea30-4e7b-84a4-b4cd58c1b49b"
      },
      "outputs": [
        {
          "output_type": "stream",
          "name": "stderr",
          "text": [
            "[nltk_data] Downloading package vader_lexicon to /root/nltk_data...\n"
          ]
        },
        {
          "output_type": "stream",
          "name": "stdout",
          "text": [
            "Welcome to the ChatBot! Type 'quit' to end the conversation.\n",
            "You: hello\n",
            "You seem neutral.\n",
            "ChatBot: Hi there!\n",
            "You: how are you dear\n",
            "You seem positive!\n",
            "ChatBot: I'm doing well, thank you!\n",
            "You: nothing\n",
            "You seem neutral.\n",
            "ChatBot: Can you please elaborate?\n",
            "You: quit\n",
            "Goodbye!\n"
          ]
        }
      ],
      "source": [
        "import nltk\n",
        "import random\n",
        "import numpy as np\n",
        "from nltk.chat.util import Chat, reflections\n",
        "from scipy import stats\n",
        "\n",
        "# Initialize NLTK's sentiment analyzer\n",
        "from nltk.sentiment import SentimentIntensityAnalyzer\n",
        "nltk.download('vader_lexicon')\n",
        "sia = SentimentIntensityAnalyzer()\n",
        "\n",
        "# Define some reflections to use for the chatbot\n",
        "reflections = {\n",
        "    \"i am\": \"you are\",\n",
        "    \"i was\": \"you were\",\n",
        "    \"i\": \"you\",\n",
        "    \"i'm\": \"you are\",\n",
        "    \"i'd\": \"you would\",\n",
        "    \"i've\": \"you have\",\n",
        "    \"i'll\": \"you will\",\n",
        "    \"my\": \"your\",\n",
        "    \"you are\": \"I am\",\n",
        "    \"you were\": \"I was\",\n",
        "    \"you've\": \"I have\",\n",
        "    \"you'll\": \"I will\",\n",
        "    \"your\": \"my\",\n",
        "    \"yours\": \"mine\",\n",
        "    \"you\": \"me\",\n",
        "    \"me\": \"you\"\n",
        "}\n",
        "\n",
        "# Define some patterns and responses for the chatbot\n",
        "patterns = [\n",
        "    (r\"hi|hello|hey\", [\"Hello!\", \"Hi there!\", \"Hey!\"]),\n",
        "    (r\"what is your name?\", [\"You can call me ChatBot.\", \"I'm ChatBot.\"]),\n",
        "    (r\"how are you?\", [\"I'm doing well, thank you!\", \"I'm good, thanks for asking.\"]),\n",
        "    (r\"what can you do?\", [\"I can answer questions and engage in conversation.\"]),\n",
        "    (r\"(.*) (good|well|fine)\", [\"That's great!\", \"Good to hear!\"]),\n",
        "    (r\"(.*) (bad|not good)\", [\"I'm sorry to hear that.\"]),\n",
        "    (r\"(.*) (thank you|thanks)\", [\"You're welcome!\", \"No problem.\"]),\n",
        "    (r\"(.*)\", [\"Hmm... I'm not sure I understand.\", \"Can you please elaborate?\"])\n",
        "]\n",
        "\n",
        "# Create a chatbot\n",
        "chatbot = Chat(patterns, reflections)\n",
        "\n",
        "# Function to calculate sentiment score\n",
        "def get_sentiment_score(text):\n",
        "    scores = sia.polarity_scores(text)\n",
        "    compound_score = scores['compound']\n",
        "    return compound_score\n",
        "\n",
        "# Function to start the conversation with the chatbot\n",
        "def start_chat():\n",
        "    print(\"Welcome to the ChatBot! Type 'quit' to end the conversation.\")\n",
        "    while True:\n",
        "        user_input = input(\"You: \")\n",
        "        if user_input.lower() == 'quit':\n",
        "            print(\"Goodbye!\")\n",
        "            break\n",
        "        else:\n",
        "            sentiment_score = get_sentiment_score(user_input)\n",
        "            if sentiment_score >= 0.3:\n",
        "                print(\"You seem positive!\")\n",
        "            elif sentiment_score <= -0.3:\n",
        "                print(\"You seem negative...\")\n",
        "            else:\n",
        "                print(\"You seem neutral.\")\n",
        "\n",
        "            response = chatbot.respond(user_input)\n",
        "            print(\"ChatBot:\", response)\n",
        "\n",
        "# Start the conversation\n",
        "start_chat()\n"
      ]
    }
  ]
}